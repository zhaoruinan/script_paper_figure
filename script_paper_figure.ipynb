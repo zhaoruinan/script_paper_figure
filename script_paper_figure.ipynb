{
 "cells": [
  {
   "cell_type": "code",
   "execution_count": 5,
   "metadata": {},
   "outputs": [],
   "source": [
    "import cv2\n",
    "import numpy as np\n",
    "def crop_img(img, scale=1.0, start=(0.3,0.7)):\n",
    "    print(start[1])\n",
    "    center_x, center_y = img.shape[1] / 2, img.shape[0] / 2\n",
    "    width_scaled, height_scaled = img.shape[1] * scale, img.shape[0] * scale\n",
    "    left_x, right_x = start[0] * img.shape[1], start[0] * img.shape[1] + width_scaled\n",
    "    top_y, bottom_y = start[1] * img.shape[0], start[1] * img.shape[0] + width_scaled\n",
    "    img_cropped = img[int(top_y):int(bottom_y), int(left_x):int(right_x)]\n",
    "    #cv2.rectangle(img,(int(left_x),int(top_y)),(int(right_x),int(bottom_y)),(0,255,0),3)\n",
    "    return img_cropped\n",
    "def draw_rect_img(img, scale=1.0, start=(0.3,0.7)):\n",
    "    print(start[1])\n",
    "    center_x, center_y = img.shape[1] / 2, img.shape[0] / 2\n",
    "    width_scaled, height_scaled = img.shape[1] * scale, img.shape[0] * scale\n",
    "    left_x, right_x = start[0] * img.shape[1], start[0] * img.shape[1] + width_scaled\n",
    "    top_y, bottom_y = start[1] * img.shape[0], start[1] * img.shape[0] + width_scaled\n",
    "    img_cropped = img[int(top_y):int(bottom_y), int(left_x):int(right_x)]\n",
    "    cv2.rectangle(img,(int(left_x),int(top_y)),(int(right_x),int(bottom_y)),(0,255,0),3)\n",
    "    return img\n",
    "def draw_img(img_path,scale=0.2,start=(0.3,0.7)):\n",
    "    img = cv2.imread(img_path)\n",
    "    img_cropped = crop_img(img, scale,start)\n",
    "    crop_path = \"crop\"+img_path\n",
    "    rect_path = \"rect\"+img_path\n",
    "    cv2.imwrite(crop_path,img_cropped)\n",
    "    img = cv2.resize(img,(640,480))\n",
    "    img_rect = draw_rect_img(img, scale,start)\n",
    "    cv2.imwrite(rect_path,img_rect)\n",
    "    img = cv2.resize(img,(640,480))\n",
    "    img_cropped = cv2.resize(img_cropped,(640,640))\n",
    "    img_vstack = np.vstack([img, img_cropped])   \n",
    "    rect_path = \"vstack\"+img_path\n",
    "    cv2.imwrite(rect_path,img_vstack)"
   ]
  },
  {
   "cell_type": "code",
   "execution_count": 6,
   "metadata": {},
   "outputs": [
    {
     "name": "stdout",
     "output_type": "stream",
     "text": [
      "0.82\n",
      "0.82\n",
      "0.82\n",
      "0.82\n",
      "0.82\n",
      "0.82\n",
      "0.82\n",
      "0.82\n"
     ]
    }
   ],
   "source": [
    "img_list=['lab_rgb_img_4x_out.png','lab_rgb_img_2x_out.png','lab_rgb_img.png','lab_rgb_img_denoise.png']\n",
    "for img_path in img_list:\n",
    "    draw_img(img_path,scale=0.05,start=(0.35,0.82))"
   ]
  },
  {
   "cell_type": "code",
   "execution_count": 7,
   "metadata": {},
   "outputs": [
    {
     "name": "stdout",
     "output_type": "stream",
     "text": [
      "0.7\n"
     ]
    },
    {
     "data": {
      "text/plain": [
       "True"
      ]
     },
     "execution_count": 7,
     "metadata": {},
     "output_type": "execute_result"
    }
   ],
   "source": [
    "img = cv2.imread('lab_rgb_img_denoise.png')\n",
    "img_cropped = crop_img(img, 0.2)\n",
    "cv2.imwrite(\"img_cropped_1.png\",img_cropped)"
   ]
  }
 ],
 "metadata": {
  "kernelspec": {
   "display_name": "Python 3.9.7 ('base')",
   "language": "python",
   "name": "python3"
  },
  "language_info": {
   "codemirror_mode": {
    "name": "ipython",
    "version": 3
   },
   "file_extension": ".py",
   "mimetype": "text/x-python",
   "name": "python",
   "nbconvert_exporter": "python",
   "pygments_lexer": "ipython3",
   "version": "3.9.7"
  },
  "vscode": {
   "interpreter": {
    "hash": "39edd0780c6535a4d08b9c39e6f781c0030997276e67ccb0a9f217d6fc52d2b2"
   }
  }
 },
 "nbformat": 4,
 "nbformat_minor": 4
}
